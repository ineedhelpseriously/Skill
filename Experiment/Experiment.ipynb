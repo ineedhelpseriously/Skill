{
 "cells": [
  {
   "cell_type": "code",
   "execution_count": 56,
   "metadata": {},
   "outputs": [],
   "source": [
    "#Importing libraries\n",
    "\n",
    "import pandas as pd # type: ignore\n",
    "import numpy as np # type: ignore\n",
    "import seaborn as sns # type: ignore\n",
    "from matplotlib import pyplot as plt # type: ignore"
   ]
  },
  {
   "cell_type": "markdown",
   "metadata": {},
   "source": [
    "Reading different datasets.\n",
    "\n",
    "We will be working on 3 different datasets:\n",
    "\n",
    "1) Red and White wine data for merging and managing data.\n",
    "2) A dataset from W3School to clean data.\n",
    "3) Diabetes data for testing and training data and plotting data."
   ]
  },
  {
   "cell_type": "markdown",
   "metadata": {},
   "source": [
    "Set1\n",
    "Wine dataset"
   ]
  },
  {
   "cell_type": "code",
   "execution_count": 57,
   "metadata": {},
   "outputs": [],
   "source": [
    "#adding an extra column to differentate wetween red and white wine data\n",
    "red_wine = pd.read_csv('winequality-red.csv', delimiter=';')\n",
    "red_wine['type'] = 'red'\n",
    "white_wine = pd.read_csv('winequality-white.csv', delimiter=';')\n",
    "white_wine['type'] = 'white'"
   ]
  },
  {
   "cell_type": "code",
   "execution_count": 58,
   "metadata": {},
   "outputs": [],
   "source": [
    "#merging both red and white wine dataset\n",
    "merged_wine_data=red_wine.merge(white_wine, how='outer')"
   ]
  },
  {
   "cell_type": "markdown",
   "metadata": {},
   "source": [
    "Checking if the data has any null or nan values and then describing the data"
   ]
  },
  {
   "cell_type": "code",
   "execution_count": null,
   "metadata": {},
   "outputs": [],
   "source": [
    "merged_wine_data.isna().sum()"
   ]
  },
  {
   "cell_type": "code",
   "execution_count": null,
   "metadata": {},
   "outputs": [],
   "source": [
    "merged_wine_data.isnull().sum()"
   ]
  },
  {
   "cell_type": "code",
   "execution_count": null,
   "metadata": {},
   "outputs": [],
   "source": [
    "merged_wine_data.describe()"
   ]
  },
  {
   "cell_type": "code",
   "execution_count": null,
   "metadata": {},
   "outputs": [],
   "source": [
    "merged_wine_data.info()"
   ]
  },
  {
   "cell_type": "markdown",
   "metadata": {},
   "source": [
    "Extracting 25% of the data for testing purposes"
   ]
  },
  {
   "cell_type": "code",
   "execution_count": 63,
   "metadata": {},
   "outputs": [],
   "source": [
    "random_wine_data=merged_wine_data.sample(frac=0.25)"
   ]
  },
  {
   "cell_type": "markdown",
   "metadata": {},
   "source": [
    "Seeing if the testing and training data is balanced and balancing the data"
   ]
  },
  {
   "cell_type": "code",
   "execution_count": null,
   "metadata": {},
   "outputs": [],
   "source": [
    "random_wine_data['type'].value_counts()"
   ]
  },
  {
   "cell_type": "code",
   "execution_count": 65,
   "metadata": {},
   "outputs": [],
   "source": [
    "from sklearn.model_selection import train_test_split\n",
    "# Assuming the DataFrame is named 'random_wine_data' and has a column 'type' for wine type\n",
    "# Split the data into 75% training and 25% testing while stratifying by 'type'\n",
    "train_data, test_data = train_test_split(merged_wine_data, test_size=0.25, stratify=merged_wine_data['type'])"
   ]
  },
  {
   "cell_type": "code",
   "execution_count": 66,
   "metadata": {},
   "outputs": [],
   "source": [
    "# Get the minimum count of samples for each type in the training data\n",
    "min_count = train_data['type'].value_counts().min()\n",
    "\n",
    "# Sample equal number of samples for each type\n",
    "train_wine_data = train_data.groupby('type').sample(n=min_count, random_state=1)"
   ]
  },
  {
   "cell_type": "code",
   "execution_count": null,
   "metadata": {},
   "outputs": [],
   "source": [
    "train_wine_data['type'].value_counts()"
   ]
  },
  {
   "cell_type": "markdown",
   "metadata": {},
   "source": [
    "Set2 Cleaning dataset"
   ]
  },
  {
   "cell_type": "code",
   "execution_count": 68,
   "metadata": {},
   "outputs": [],
   "source": [
    "cleaning_data=pd.read_csv(\"data.csv\")"
   ]
  },
  {
   "cell_type": "markdown",
   "metadata": {},
   "source": [
    "We will now check if the data contains any null,nan values or duplictes or wrong format info"
   ]
  },
  {
   "cell_type": "code",
   "execution_count": null,
   "metadata": {},
   "outputs": [],
   "source": [
    "cleaning_data.info()"
   ]
  },
  {
   "cell_type": "code",
   "execution_count": 70,
   "metadata": {},
   "outputs": [],
   "source": [
    "removed_null_rows_dataset=cleaning_data.dropna()\n",
    "#if we pass the parameter in dropna(inplace=true) it will modify the original database but we dont want it right now..."
   ]
  },
  {
   "cell_type": "code",
   "execution_count": null,
   "metadata": {},
   "outputs": [],
   "source": [
    "#NOTE: this will give error\n",
    "#filled_null_rows_dataset=cleaning_data[\"Calories\"].fillna(x,inplace=True)\n",
    "#here we can put the value of x and the value will be applied to the empty sets.\n",
    "#i choose to keep it undefined as it will not be able to perform other actions and other data cleaning methods "
   ]
  },
  {
   "cell_type": "code",
   "execution_count": 72,
   "metadata": {},
   "outputs": [],
   "source": [
    "#we can also give the values of x by the following commands that are put in comment from\n",
    "\n",
    "#Mean=avg\n",
    "#x=cleaning_data[\"Calories\"].mean()\n",
    "\n",
    "#Median=mid value after sorting\n",
    "#x=cleaning_data.median()\n",
    "\n",
    "#Mode=Most appearing value\n",
    "#x=cleaning_data.mode()[0]"
   ]
  },
  {
   "cell_type": "code",
   "execution_count": null,
   "metadata": {},
   "outputs": [],
   "source": [
    "#finding out duplicates\n",
    "cleaning_data.duplicated().value_counts()"
   ]
  },
  {
   "cell_type": "code",
   "execution_count": 74,
   "metadata": {},
   "outputs": [],
   "source": [
    "#removing duplicates\n",
    "#NOTE: Will give an error as parameter inplace=true is not passed \n",
    "#removed_duplicates_dataset=cleaning_data.drop_duplicates()"
   ]
  },
  {
   "cell_type": "markdown",
   "metadata": {},
   "source": [
    "Set3 plotting data"
   ]
  },
  {
   "cell_type": "code",
   "execution_count": null,
   "metadata": {},
   "outputs": [],
   "source": []
  }
 ],
 "metadata": {
  "kernelspec": {
   "display_name": "Python 3",
   "language": "python",
   "name": "python3"
  },
  "language_info": {
   "codemirror_mode": {
    "name": "ipython",
    "version": 3
   },
   "file_extension": ".py",
   "mimetype": "text/x-python",
   "name": "python",
   "nbconvert_exporter": "python",
   "pygments_lexer": "ipython3",
   "version": "3.11.9"
  }
 },
 "nbformat": 4,
 "nbformat_minor": 2
}
